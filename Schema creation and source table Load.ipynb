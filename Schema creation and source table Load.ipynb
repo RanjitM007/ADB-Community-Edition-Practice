{
 "cells": [
  {
   "cell_type": "code",
   "execution_count": 0,
   "metadata": {
    "application/vnd.databricks.v1+cell": {
     "cellMetadata": {
      "byteLimit": 2048000,
      "rowLimit": 10000
     },
     "inputWidgets": {},
     "nuid": "83d1c989-2e5c-488f-bbba-15bfc2d459bf",
     "showTitle": true,
     "tableResultSettingsMap": {},
     "title": "Create schema"
    }
   },
   "outputs": [],
   "source": [
    "spark.sql(\"CREATE SCHEMA IF NOT EXISTS workspace.DE_practice_source\")  # Create source schema if it doesn't exist\n",
    "spark.sql(\"CREATE SCHEMA IF NOT EXISTS workspace.DE_practice_target\")  # Create target schema if it doesn't exist"
   ]
  },
  {
   "cell_type": "code",
   "execution_count": 0,
   "metadata": {
    "application/vnd.databricks.v1+cell": {
     "cellMetadata": {
      "byteLimit": 2048000,
      "rowLimit": 10000
     },
     "inputWidgets": {},
     "nuid": "60a6dfae-7fd2-4b90-870a-0d9ec77f63b0",
     "showTitle": true,
     "tableResultSettingsMap": {},
     "title": "Read Data  preexisting  data"
    }
   },
   "outputs": [],
   "source": [
    "sales = spark.sql(\"select * from samples.bakehouse.sales_franchises\")\n",
    "sales.write.mode(\"overwrite\").saveAsTable(\"workspace.DE_practice_source.sales\")"
   ]
  }
 ],
 "metadata": {
  "application/vnd.databricks.v1+notebook": {
   "computePreferences": null,
   "dashboards": [],
   "environmentMetadata": {
    "base_environment": "",
    "environment_version": "2"
   },
   "inputWidgetPreferences": null,
   "language": "python",
   "notebookMetadata": {
    "pythonIndentUnit": 4
   },
   "notebookName": "Schema creation and source table Load",
   "widgets": {}
  },
  "language_info": {
   "name": "python"
  }
 },
 "nbformat": 4,
 "nbformat_minor": 0
}
